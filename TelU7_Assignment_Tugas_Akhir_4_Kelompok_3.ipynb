{
  "nbformat": 4,
  "nbformat_minor": 0,
  "metadata": {
    "colab": {
      "name": "TelU7_Assignment Tugas Akhir 4_Kelompok 3.ipynb",
      "provenance": [],
      "collapsed_sections": []
    },
    "kernelspec": {
      "name": "python3",
      "display_name": "Python 3"
    },
    "language_info": {
      "name": "python"
    }
  },
  "cells": [
    {
      "cell_type": "markdown",
      "metadata": {
        "id": "tAscoBgYhX3h"
      },
      "source": [
        "#EKSPLORASI DATA DAN PERSIAPAN"
      ]
    },
    {
      "cell_type": "markdown",
      "metadata": {
        "id": "SZ83Q9wwx5cd"
      },
      "source": [
        "Dataset ini berisi data produktivitas buah-buahan dan sayuran berdasarkan komoditi di Provinsi Jawa Barat tahun 2019 s.d. 2020. Penjelasan mengenai variabel di dalam dataset ini:"
      ]
    },
    {
      "cell_type": "markdown",
      "metadata": {
        "id": "ksGNDMKdx9Cm"
      },
      "source": [
        " \n",
        "*   id: menyatakan indeks dari masing-masing data secara terurut dengan tipe data\n",
        "*   komoditi: menyatakan komoditi dari buah dan sayuran dengan tipe data teks. Ada 25 jenis komoditi yang  diperhitungkan yaitu alpukat, anggur, apel, belimbing, dukung/langsat/kokosan, durian, jambu air, jambu biji, jengkol, jeruk besar, jeruk siam/keprok, mangga, manggis, markisa/kontak, melinjo, nangka/cempedak, nenas, pepaya, petai, pisang, rambutan, salak, sawo, sirsak dan sukun.\n",
        "*   Tanaman perpohon: menyatakan banyaknya buah dan sayur yang menghasilkan per satu pohon\n",
        "*   Produksi per kuintal : menyatakan banyaknya produksi buah perkuintal\n",
        "*   produktivitas buah & sayur dalam kuintal per pohon: menyatakan nilai produktivitas buah & sayur dalam kuintal dalam satu pohon dengan membagi nilai pada kolom produksi per kuintal dengan tanaman perpohon\n",
        "*   tahun: menyatakan tahun produksi data dengan tipe data numerik. Data yang ditampilkan mulai dari tahun 2019 sampai 2020."
      ]
    },
    {
      "cell_type": "code",
      "metadata": {
        "id": "W1UCb24bhEo1"
      },
      "source": [
        "# import pandas\n",
        "import pandas as pd"
      ],
      "execution_count": 1,
      "outputs": []
    },
    {
      "cell_type": "markdown",
      "metadata": {
        "id": "8tm9Wthwh720"
      },
      "source": [
        "melakukan pemanggilan pada data frame hasil eksplorasi kelompok kami"
      ]
    },
    {
      "cell_type": "code",
      "metadata": {
        "id": "eouw3-1ShylN"
      },
      "source": [
        "#panggil dafaFrame\n",
        "path = \"/content/Dataset Buah dan Sayur di Jawa Barat.csv\"\n",
        "df = pd.read_csv(path)"
      ],
      "execution_count": 2,
      "outputs": []
    },
    {
      "cell_type": "markdown",
      "metadata": {
        "id": "Q9o6yWfUjK4Z"
      },
      "source": [
        "pada dataset tersebut, kami tampilkan datanya dalam bentuk dataframe sebagai berikut :"
      ]
    },
    {
      "cell_type": "code",
      "metadata": {
        "colab": {
          "base_uri": "https://localhost:8080/",
          "height": 1000
        },
        "id": "ErgWwQU_jUBh",
        "outputId": "d70f4504-e4a2-45be-bd3b-61b62bfff76f"
      },
      "source": [
        "df"
      ],
      "execution_count": 3,
      "outputs": [
        {
          "output_type": "execute_result",
          "data": {
            "text/html": [
              "<div>\n",
              "<style scoped>\n",
              "    .dataframe tbody tr th:only-of-type {\n",
              "        vertical-align: middle;\n",
              "    }\n",
              "\n",
              "    .dataframe tbody tr th {\n",
              "        vertical-align: top;\n",
              "    }\n",
              "\n",
              "    .dataframe thead th {\n",
              "        text-align: right;\n",
              "    }\n",
              "</style>\n",
              "<table border=\"1\" class=\"dataframe\">\n",
              "  <thead>\n",
              "    <tr style=\"text-align: right;\">\n",
              "      <th></th>\n",
              "      <th>id</th>\n",
              "      <th>komoditi</th>\n",
              "      <th>tanamanPerpohon</th>\n",
              "      <th>produksiPerKuintal</th>\n",
              "      <th>produktivitasBuah&amp;SayurDalamKuintalPerPohon</th>\n",
              "      <th>tahun</th>\n",
              "    </tr>\n",
              "  </thead>\n",
              "  <tbody>\n",
              "    <tr>\n",
              "      <th>0</th>\n",
              "      <td>1</td>\n",
              "      <td>ALPUKAT</td>\n",
              "      <td>890084.0</td>\n",
              "      <td>1040844.0</td>\n",
              "      <td>1.17</td>\n",
              "      <td>2019</td>\n",
              "    </tr>\n",
              "    <tr>\n",
              "      <th>1</th>\n",
              "      <td>2</td>\n",
              "      <td>ANGGUR</td>\n",
              "      <td>79.0</td>\n",
              "      <td>12.0</td>\n",
              "      <td>0.15</td>\n",
              "      <td>2019</td>\n",
              "    </tr>\n",
              "    <tr>\n",
              "      <th>2</th>\n",
              "      <td>3</td>\n",
              "      <td>APEL</td>\n",
              "      <td>NaN</td>\n",
              "      <td>NaN</td>\n",
              "      <td>NaN</td>\n",
              "      <td>2019</td>\n",
              "    </tr>\n",
              "    <tr>\n",
              "      <th>3</th>\n",
              "      <td>4</td>\n",
              "      <td>BELIMBING</td>\n",
              "      <td>106782.0</td>\n",
              "      <td>87558.0</td>\n",
              "      <td>0.82</td>\n",
              "      <td>2019</td>\n",
              "    </tr>\n",
              "    <tr>\n",
              "      <th>4</th>\n",
              "      <td>5</td>\n",
              "      <td>DUKU/LANGSAT/KOKOSAN</td>\n",
              "      <td>159965.0</td>\n",
              "      <td>97146.0</td>\n",
              "      <td>0.61</td>\n",
              "      <td>2019</td>\n",
              "    </tr>\n",
              "    <tr>\n",
              "      <th>5</th>\n",
              "      <td>6</td>\n",
              "      <td>DURIAN</td>\n",
              "      <td>1084986.0</td>\n",
              "      <td>941829.0</td>\n",
              "      <td>0.87</td>\n",
              "      <td>2019</td>\n",
              "    </tr>\n",
              "    <tr>\n",
              "      <th>6</th>\n",
              "      <td>7</td>\n",
              "      <td>JAMBU AIR</td>\n",
              "      <td>318503.0</td>\n",
              "      <td>179335.0</td>\n",
              "      <td>0.56</td>\n",
              "      <td>2019</td>\n",
              "    </tr>\n",
              "    <tr>\n",
              "      <th>7</th>\n",
              "      <td>8</td>\n",
              "      <td>JAMBU BIJI</td>\n",
              "      <td>843672.0</td>\n",
              "      <td>508873.0</td>\n",
              "      <td>0.60</td>\n",
              "      <td>2019</td>\n",
              "    </tr>\n",
              "    <tr>\n",
              "      <th>8</th>\n",
              "      <td>9</td>\n",
              "      <td>JENGKOL</td>\n",
              "      <td>234347.0</td>\n",
              "      <td>161103.0</td>\n",
              "      <td>0.69</td>\n",
              "      <td>2019</td>\n",
              "    </tr>\n",
              "    <tr>\n",
              "      <th>9</th>\n",
              "      <td>10</td>\n",
              "      <td>JERUK BESAR</td>\n",
              "      <td>69359.0</td>\n",
              "      <td>55353.0</td>\n",
              "      <td>0.80</td>\n",
              "      <td>2019</td>\n",
              "    </tr>\n",
              "    <tr>\n",
              "      <th>10</th>\n",
              "      <td>11</td>\n",
              "      <td>JERUK SIAM/KEPROK</td>\n",
              "      <td>651021.0</td>\n",
              "      <td>385159.0</td>\n",
              "      <td>0.59</td>\n",
              "      <td>2019</td>\n",
              "    </tr>\n",
              "    <tr>\n",
              "      <th>11</th>\n",
              "      <td>12</td>\n",
              "      <td>MANGGA</td>\n",
              "      <td>3753856.0</td>\n",
              "      <td>4185217.0</td>\n",
              "      <td>1.11</td>\n",
              "      <td>2019</td>\n",
              "    </tr>\n",
              "    <tr>\n",
              "      <th>12</th>\n",
              "      <td>13</td>\n",
              "      <td>MANGGIS</td>\n",
              "      <td>881077.0</td>\n",
              "      <td>749747.0</td>\n",
              "      <td>0.85</td>\n",
              "      <td>2019</td>\n",
              "    </tr>\n",
              "    <tr>\n",
              "      <th>13</th>\n",
              "      <td>14</td>\n",
              "      <td>MARKISA/KONYAL</td>\n",
              "      <td>8396.0</td>\n",
              "      <td>1270.0</td>\n",
              "      <td>0.15</td>\n",
              "      <td>2019</td>\n",
              "    </tr>\n",
              "    <tr>\n",
              "      <th>14</th>\n",
              "      <td>15</td>\n",
              "      <td>MELINJO</td>\n",
              "      <td>688132.0</td>\n",
              "      <td>274179.0</td>\n",
              "      <td>0.40</td>\n",
              "      <td>2019</td>\n",
              "    </tr>\n",
              "    <tr>\n",
              "      <th>15</th>\n",
              "      <td>16</td>\n",
              "      <td>NANGKA/CEMPEDAK</td>\n",
              "      <td>746458.0</td>\n",
              "      <td>796972.0</td>\n",
              "      <td>1.07</td>\n",
              "      <td>2019</td>\n",
              "    </tr>\n",
              "    <tr>\n",
              "      <th>16</th>\n",
              "      <td>17</td>\n",
              "      <td>NENAS</td>\n",
              "      <td>23388800.0</td>\n",
              "      <td>2286005.0</td>\n",
              "      <td>0.10</td>\n",
              "      <td>2019</td>\n",
              "    </tr>\n",
              "    <tr>\n",
              "      <th>17</th>\n",
              "      <td>18</td>\n",
              "      <td>PEPAYA</td>\n",
              "      <td>1431082.0</td>\n",
              "      <td>977270.0</td>\n",
              "      <td>0.68</td>\n",
              "      <td>2019</td>\n",
              "    </tr>\n",
              "    <tr>\n",
              "      <th>18</th>\n",
              "      <td>19</td>\n",
              "      <td>PETAI</td>\n",
              "      <td>1175939.0</td>\n",
              "      <td>680597.0</td>\n",
              "      <td>0.58</td>\n",
              "      <td>2019</td>\n",
              "    </tr>\n",
              "    <tr>\n",
              "      <th>19</th>\n",
              "      <td>20</td>\n",
              "      <td>PISANG</td>\n",
              "      <td>20454944.0</td>\n",
              "      <td>12201741.0</td>\n",
              "      <td>0.60</td>\n",
              "      <td>2019</td>\n",
              "    </tr>\n",
              "    <tr>\n",
              "      <th>20</th>\n",
              "      <td>21</td>\n",
              "      <td>RAMBUTAN</td>\n",
              "      <td>1765131.0</td>\n",
              "      <td>1455812.0</td>\n",
              "      <td>0.82</td>\n",
              "      <td>2019</td>\n",
              "    </tr>\n",
              "    <tr>\n",
              "      <th>21</th>\n",
              "      <td>22</td>\n",
              "      <td>SALAK</td>\n",
              "      <td>1524979.0</td>\n",
              "      <td>152849.0</td>\n",
              "      <td>0.10</td>\n",
              "      <td>2019</td>\n",
              "    </tr>\n",
              "    <tr>\n",
              "      <th>22</th>\n",
              "      <td>23</td>\n",
              "      <td>SAWO</td>\n",
              "      <td>293309.0</td>\n",
              "      <td>248780.0</td>\n",
              "      <td>0.85</td>\n",
              "      <td>2019</td>\n",
              "    </tr>\n",
              "    <tr>\n",
              "      <th>23</th>\n",
              "      <td>24</td>\n",
              "      <td>SIRSAK</td>\n",
              "      <td>297431.0</td>\n",
              "      <td>108239.0</td>\n",
              "      <td>0.36</td>\n",
              "      <td>2019</td>\n",
              "    </tr>\n",
              "    <tr>\n",
              "      <th>24</th>\n",
              "      <td>25</td>\n",
              "      <td>SUKUN</td>\n",
              "      <td>294877.0</td>\n",
              "      <td>218526.0</td>\n",
              "      <td>0.74</td>\n",
              "      <td>2019</td>\n",
              "    </tr>\n",
              "    <tr>\n",
              "      <th>25</th>\n",
              "      <td>26</td>\n",
              "      <td>ALPUKAT</td>\n",
              "      <td>854976.0</td>\n",
              "      <td>1046645.0</td>\n",
              "      <td>1.22</td>\n",
              "      <td>2020</td>\n",
              "    </tr>\n",
              "    <tr>\n",
              "      <th>26</th>\n",
              "      <td>27</td>\n",
              "      <td>ANGGUR</td>\n",
              "      <td>82.0</td>\n",
              "      <td>16.0</td>\n",
              "      <td>0.20</td>\n",
              "      <td>2020</td>\n",
              "    </tr>\n",
              "    <tr>\n",
              "      <th>27</th>\n",
              "      <td>28</td>\n",
              "      <td>APEL</td>\n",
              "      <td>NaN</td>\n",
              "      <td>NaN</td>\n",
              "      <td>NaN</td>\n",
              "      <td>2020</td>\n",
              "    </tr>\n",
              "    <tr>\n",
              "      <th>28</th>\n",
              "      <td>29</td>\n",
              "      <td>BELIMBING</td>\n",
              "      <td>88266.0</td>\n",
              "      <td>70250.0</td>\n",
              "      <td>0.80</td>\n",
              "      <td>2020</td>\n",
              "    </tr>\n",
              "    <tr>\n",
              "      <th>29</th>\n",
              "      <td>30</td>\n",
              "      <td>DUKU/LANGSAT/KOKOSAN</td>\n",
              "      <td>144818.0</td>\n",
              "      <td>69464.0</td>\n",
              "      <td>0.48</td>\n",
              "      <td>2020</td>\n",
              "    </tr>\n",
              "    <tr>\n",
              "      <th>30</th>\n",
              "      <td>31</td>\n",
              "      <td>DURIAN</td>\n",
              "      <td>837772.0</td>\n",
              "      <td>730174.0</td>\n",
              "      <td>0.87</td>\n",
              "      <td>2020</td>\n",
              "    </tr>\n",
              "    <tr>\n",
              "      <th>31</th>\n",
              "      <td>32</td>\n",
              "      <td>JAMBU AIR</td>\n",
              "      <td>262153.0</td>\n",
              "      <td>209964.0</td>\n",
              "      <td>0.80</td>\n",
              "      <td>2020</td>\n",
              "    </tr>\n",
              "    <tr>\n",
              "      <th>32</th>\n",
              "      <td>33</td>\n",
              "      <td>JAMBU BIJI</td>\n",
              "      <td>787566.0</td>\n",
              "      <td>794345.0</td>\n",
              "      <td>1.01</td>\n",
              "      <td>2020</td>\n",
              "    </tr>\n",
              "    <tr>\n",
              "      <th>33</th>\n",
              "      <td>34</td>\n",
              "      <td>JENGKOL</td>\n",
              "      <td>254600.0</td>\n",
              "      <td>158624.0</td>\n",
              "      <td>0.62</td>\n",
              "      <td>2020</td>\n",
              "    </tr>\n",
              "    <tr>\n",
              "      <th>34</th>\n",
              "      <td>35</td>\n",
              "      <td>JERUK BESAR</td>\n",
              "      <td>68254.0</td>\n",
              "      <td>130417.0</td>\n",
              "      <td>1.91</td>\n",
              "      <td>2020</td>\n",
              "    </tr>\n",
              "    <tr>\n",
              "      <th>35</th>\n",
              "      <td>36</td>\n",
              "      <td>JERUK SIAM/KEPROK</td>\n",
              "      <td>598639.0</td>\n",
              "      <td>471369.0</td>\n",
              "      <td>0.79</td>\n",
              "      <td>2020</td>\n",
              "    </tr>\n",
              "    <tr>\n",
              "      <th>36</th>\n",
              "      <td>37</td>\n",
              "      <td>MANGGA</td>\n",
              "      <td>3440421.0</td>\n",
              "      <td>4425868.0</td>\n",
              "      <td>1.29</td>\n",
              "      <td>2020</td>\n",
              "    </tr>\n",
              "    <tr>\n",
              "      <th>37</th>\n",
              "      <td>38</td>\n",
              "      <td>MANGGIS</td>\n",
              "      <td>928029.0</td>\n",
              "      <td>902694.0</td>\n",
              "      <td>0.97</td>\n",
              "      <td>2020</td>\n",
              "    </tr>\n",
              "    <tr>\n",
              "      <th>38</th>\n",
              "      <td>39</td>\n",
              "      <td>MARKISA/KONYAL</td>\n",
              "      <td>29627.0</td>\n",
              "      <td>9698.0</td>\n",
              "      <td>0.33</td>\n",
              "      <td>2020</td>\n",
              "    </tr>\n",
              "    <tr>\n",
              "      <th>39</th>\n",
              "      <td>40</td>\n",
              "      <td>MELINJO</td>\n",
              "      <td>757345.0</td>\n",
              "      <td>395178.0</td>\n",
              "      <td>0.52</td>\n",
              "      <td>2020</td>\n",
              "    </tr>\n",
              "    <tr>\n",
              "      <th>40</th>\n",
              "      <td>41</td>\n",
              "      <td>NANGKA/CEMPEDAK</td>\n",
              "      <td>657725.0</td>\n",
              "      <td>752573.0</td>\n",
              "      <td>1.14</td>\n",
              "      <td>2020</td>\n",
              "    </tr>\n",
              "    <tr>\n",
              "      <th>41</th>\n",
              "      <td>42</td>\n",
              "      <td>NENAS</td>\n",
              "      <td>20494283.0</td>\n",
              "      <td>2509423.0</td>\n",
              "      <td>0.12</td>\n",
              "      <td>2020</td>\n",
              "    </tr>\n",
              "    <tr>\n",
              "      <th>42</th>\n",
              "      <td>43</td>\n",
              "      <td>PEPAYA</td>\n",
              "      <td>1446881.0</td>\n",
              "      <td>990876.0</td>\n",
              "      <td>0.68</td>\n",
              "      <td>2020</td>\n",
              "    </tr>\n",
              "    <tr>\n",
              "      <th>43</th>\n",
              "      <td>44</td>\n",
              "      <td>PETAI</td>\n",
              "      <td>998063.0</td>\n",
              "      <td>674820.0</td>\n",
              "      <td>0.68</td>\n",
              "      <td>2020</td>\n",
              "    </tr>\n",
              "    <tr>\n",
              "      <th>44</th>\n",
              "      <td>45</td>\n",
              "      <td>PISANG</td>\n",
              "      <td>20045608.0</td>\n",
              "      <td>12635041.0</td>\n",
              "      <td>0.63</td>\n",
              "      <td>2020</td>\n",
              "    </tr>\n",
              "    <tr>\n",
              "      <th>45</th>\n",
              "      <td>46</td>\n",
              "      <td>RAMBUTAN</td>\n",
              "      <td>1672647.0</td>\n",
              "      <td>1271442.0</td>\n",
              "      <td>0.76</td>\n",
              "      <td>2020</td>\n",
              "    </tr>\n",
              "    <tr>\n",
              "      <th>46</th>\n",
              "      <td>47</td>\n",
              "      <td>SALAK</td>\n",
              "      <td>1819074.0</td>\n",
              "      <td>316931.0</td>\n",
              "      <td>0.17</td>\n",
              "      <td>2020</td>\n",
              "    </tr>\n",
              "    <tr>\n",
              "      <th>47</th>\n",
              "      <td>48</td>\n",
              "      <td>SAWO</td>\n",
              "      <td>243526.0</td>\n",
              "      <td>382504.0</td>\n",
              "      <td>1.57</td>\n",
              "      <td>2020</td>\n",
              "    </tr>\n",
              "    <tr>\n",
              "      <th>48</th>\n",
              "      <td>49</td>\n",
              "      <td>SIRSAK</td>\n",
              "      <td>307188.0</td>\n",
              "      <td>111883.0</td>\n",
              "      <td>0.36</td>\n",
              "      <td>2020</td>\n",
              "    </tr>\n",
              "    <tr>\n",
              "      <th>49</th>\n",
              "      <td>50</td>\n",
              "      <td>SUKUN</td>\n",
              "      <td>243889.0</td>\n",
              "      <td>242511.0</td>\n",
              "      <td>0.99</td>\n",
              "      <td>2020</td>\n",
              "    </tr>\n",
              "  </tbody>\n",
              "</table>\n",
              "</div>"
            ],
            "text/plain": [
              "    id  ... tahun\n",
              "0    1  ...  2019\n",
              "1    2  ...  2019\n",
              "2    3  ...  2019\n",
              "3    4  ...  2019\n",
              "4    5  ...  2019\n",
              "5    6  ...  2019\n",
              "6    7  ...  2019\n",
              "7    8  ...  2019\n",
              "8    9  ...  2019\n",
              "9   10  ...  2019\n",
              "10  11  ...  2019\n",
              "11  12  ...  2019\n",
              "12  13  ...  2019\n",
              "13  14  ...  2019\n",
              "14  15  ...  2019\n",
              "15  16  ...  2019\n",
              "16  17  ...  2019\n",
              "17  18  ...  2019\n",
              "18  19  ...  2019\n",
              "19  20  ...  2019\n",
              "20  21  ...  2019\n",
              "21  22  ...  2019\n",
              "22  23  ...  2019\n",
              "23  24  ...  2019\n",
              "24  25  ...  2019\n",
              "25  26  ...  2020\n",
              "26  27  ...  2020\n",
              "27  28  ...  2020\n",
              "28  29  ...  2020\n",
              "29  30  ...  2020\n",
              "30  31  ...  2020\n",
              "31  32  ...  2020\n",
              "32  33  ...  2020\n",
              "33  34  ...  2020\n",
              "34  35  ...  2020\n",
              "35  36  ...  2020\n",
              "36  37  ...  2020\n",
              "37  38  ...  2020\n",
              "38  39  ...  2020\n",
              "39  40  ...  2020\n",
              "40  41  ...  2020\n",
              "41  42  ...  2020\n",
              "42  43  ...  2020\n",
              "43  44  ...  2020\n",
              "44  45  ...  2020\n",
              "45  46  ...  2020\n",
              "46  47  ...  2020\n",
              "47  48  ...  2020\n",
              "48  49  ...  2020\n",
              "49  50  ...  2020\n",
              "\n",
              "[50 rows x 6 columns]"
            ]
          },
          "metadata": {},
          "execution_count": 3
        }
      ]
    },
    {
      "cell_type": "markdown",
      "metadata": {
        "id": "wF1PHEJMsaq2"
      },
      "source": [
        "hapus kolom id karena tidak diperlukan"
      ]
    },
    {
      "cell_type": "code",
      "metadata": {
        "id": "J3PdeSLEsdnd"
      },
      "source": [
        "df = df.drop(columns=['id'])"
      ],
      "execution_count": 4,
      "outputs": []
    },
    {
      "cell_type": "markdown",
      "metadata": {
        "id": "9kOzYbr_j2eQ"
      },
      "source": [
        "Adapun data jumlah baris dan kolom dari dataset yang kami pilih sebagai berikut : "
      ]
    },
    {
      "cell_type": "code",
      "metadata": {
        "colab": {
          "base_uri": "https://localhost:8080/"
        },
        "id": "RDvFh8Zgj-m-",
        "outputId": "cda5e83f-fa93-47cb-8673-d25416766e8e"
      },
      "source": [
        "df.shape"
      ],
      "execution_count": 5,
      "outputs": [
        {
          "output_type": "execute_result",
          "data": {
            "text/plain": [
              "(50, 5)"
            ]
          },
          "metadata": {},
          "execution_count": 5
        }
      ]
    },
    {
      "cell_type": "markdown",
      "metadata": {
        "id": "1KvH5xC9kCqu"
      },
      "source": [
        "Selain itu, tipe data dari dataset yang kami gunakan adalah sebagai berikut :"
      ]
    },
    {
      "cell_type": "code",
      "metadata": {
        "colab": {
          "base_uri": "https://localhost:8080/"
        },
        "id": "_s7yWEu8kJ3x",
        "outputId": "b55fae23-26bd-4fa8-f030-af36fea9b0d0"
      },
      "source": [
        "df.dtypes"
      ],
      "execution_count": 6,
      "outputs": [
        {
          "output_type": "execute_result",
          "data": {
            "text/plain": [
              "komoditi                                        object\n",
              "tanamanPerpohon                                float64\n",
              "produksiPerKuintal                             float64\n",
              "produktivitasBuah&SayurDalamKuintalPerPohon    float64\n",
              "tahun                                            int64\n",
              "dtype: object"
            ]
          },
          "metadata": {},
          "execution_count": 6
        }
      ]
    },
    {
      "cell_type": "markdown",
      "metadata": {
        "id": "136nZqmhjQh_"
      },
      "source": [
        "berikut merupakan proses pengecekan apakah terdapat data bernilai kosong atau missing value"
      ]
    },
    {
      "cell_type": "code",
      "metadata": {
        "colab": {
          "base_uri": "https://localhost:8080/"
        },
        "id": "SzM7zS5-jJzM",
        "outputId": "ee966dad-a209-40e5-ef18-6937f6a7f27a"
      },
      "source": [
        "df.isnull().sum()"
      ],
      "execution_count": 7,
      "outputs": [
        {
          "output_type": "execute_result",
          "data": {
            "text/plain": [
              "komoditi                                       0\n",
              "tanamanPerpohon                                2\n",
              "produksiPerKuintal                             2\n",
              "produktivitasBuah&SayurDalamKuintalPerPohon    2\n",
              "tahun                                          0\n",
              "dtype: int64"
            ]
          },
          "metadata": {},
          "execution_count": 7
        }
      ]
    },
    {
      "cell_type": "markdown",
      "metadata": {
        "id": "3moQ1Zm4mRAA"
      },
      "source": [
        "karena terdapat data missing maka data tersebut dilakuka drop atau dihilangkan"
      ]
    },
    {
      "cell_type": "code",
      "metadata": {
        "id": "DXCAghrjmX72"
      },
      "source": [
        "df = df.dropna(axis=0, how=\"any\")\n"
      ],
      "execution_count": 8,
      "outputs": []
    },
    {
      "cell_type": "markdown",
      "metadata": {
        "id": "fPybjXvyndZZ"
      },
      "source": [
        "berikut merupakan data statistik dari produktivitas buah dan sayur dalam kuintal per pohon"
      ]
    },
    {
      "cell_type": "code",
      "metadata": {
        "colab": {
          "base_uri": "https://localhost:8080/",
          "height": 1000
        },
        "id": "jaMq8s-4sH1l",
        "outputId": "697eb2be-0ab5-413b-c5bc-baf1737965b2"
      },
      "source": [
        "df"
      ],
      "execution_count": 12,
      "outputs": [
        {
          "output_type": "execute_result",
          "data": {
            "text/html": [
              "<div>\n",
              "<style scoped>\n",
              "    .dataframe tbody tr th:only-of-type {\n",
              "        vertical-align: middle;\n",
              "    }\n",
              "\n",
              "    .dataframe tbody tr th {\n",
              "        vertical-align: top;\n",
              "    }\n",
              "\n",
              "    .dataframe thead th {\n",
              "        text-align: right;\n",
              "    }\n",
              "</style>\n",
              "<table border=\"1\" class=\"dataframe\">\n",
              "  <thead>\n",
              "    <tr style=\"text-align: right;\">\n",
              "      <th></th>\n",
              "      <th>komoditi</th>\n",
              "      <th>tanamanPerpohon</th>\n",
              "      <th>produksiPerKuintal</th>\n",
              "      <th>produktivitasBuah&amp;SayurDalamKuintalPerPohon</th>\n",
              "      <th>tahun</th>\n",
              "    </tr>\n",
              "  </thead>\n",
              "  <tbody>\n",
              "    <tr>\n",
              "      <th>0</th>\n",
              "      <td>ALPUKAT</td>\n",
              "      <td>890084.0</td>\n",
              "      <td>1040844.0</td>\n",
              "      <td>1.17</td>\n",
              "      <td>2019</td>\n",
              "    </tr>\n",
              "    <tr>\n",
              "      <th>1</th>\n",
              "      <td>ANGGUR</td>\n",
              "      <td>79.0</td>\n",
              "      <td>12.0</td>\n",
              "      <td>0.15</td>\n",
              "      <td>2019</td>\n",
              "    </tr>\n",
              "    <tr>\n",
              "      <th>3</th>\n",
              "      <td>BELIMBING</td>\n",
              "      <td>106782.0</td>\n",
              "      <td>87558.0</td>\n",
              "      <td>0.82</td>\n",
              "      <td>2019</td>\n",
              "    </tr>\n",
              "    <tr>\n",
              "      <th>4</th>\n",
              "      <td>DUKU/LANGSAT/KOKOSAN</td>\n",
              "      <td>159965.0</td>\n",
              "      <td>97146.0</td>\n",
              "      <td>0.61</td>\n",
              "      <td>2019</td>\n",
              "    </tr>\n",
              "    <tr>\n",
              "      <th>5</th>\n",
              "      <td>DURIAN</td>\n",
              "      <td>1084986.0</td>\n",
              "      <td>941829.0</td>\n",
              "      <td>0.87</td>\n",
              "      <td>2019</td>\n",
              "    </tr>\n",
              "    <tr>\n",
              "      <th>6</th>\n",
              "      <td>JAMBU AIR</td>\n",
              "      <td>318503.0</td>\n",
              "      <td>179335.0</td>\n",
              "      <td>0.56</td>\n",
              "      <td>2019</td>\n",
              "    </tr>\n",
              "    <tr>\n",
              "      <th>7</th>\n",
              "      <td>JAMBU BIJI</td>\n",
              "      <td>843672.0</td>\n",
              "      <td>508873.0</td>\n",
              "      <td>0.60</td>\n",
              "      <td>2019</td>\n",
              "    </tr>\n",
              "    <tr>\n",
              "      <th>8</th>\n",
              "      <td>JENGKOL</td>\n",
              "      <td>234347.0</td>\n",
              "      <td>161103.0</td>\n",
              "      <td>0.69</td>\n",
              "      <td>2019</td>\n",
              "    </tr>\n",
              "    <tr>\n",
              "      <th>9</th>\n",
              "      <td>JERUK BESAR</td>\n",
              "      <td>69359.0</td>\n",
              "      <td>55353.0</td>\n",
              "      <td>0.80</td>\n",
              "      <td>2019</td>\n",
              "    </tr>\n",
              "    <tr>\n",
              "      <th>10</th>\n",
              "      <td>JERUK SIAM/KEPROK</td>\n",
              "      <td>651021.0</td>\n",
              "      <td>385159.0</td>\n",
              "      <td>0.59</td>\n",
              "      <td>2019</td>\n",
              "    </tr>\n",
              "    <tr>\n",
              "      <th>11</th>\n",
              "      <td>MANGGA</td>\n",
              "      <td>3753856.0</td>\n",
              "      <td>4185217.0</td>\n",
              "      <td>1.11</td>\n",
              "      <td>2019</td>\n",
              "    </tr>\n",
              "    <tr>\n",
              "      <th>12</th>\n",
              "      <td>MANGGIS</td>\n",
              "      <td>881077.0</td>\n",
              "      <td>749747.0</td>\n",
              "      <td>0.85</td>\n",
              "      <td>2019</td>\n",
              "    </tr>\n",
              "    <tr>\n",
              "      <th>13</th>\n",
              "      <td>MARKISA/KONYAL</td>\n",
              "      <td>8396.0</td>\n",
              "      <td>1270.0</td>\n",
              "      <td>0.15</td>\n",
              "      <td>2019</td>\n",
              "    </tr>\n",
              "    <tr>\n",
              "      <th>14</th>\n",
              "      <td>MELINJO</td>\n",
              "      <td>688132.0</td>\n",
              "      <td>274179.0</td>\n",
              "      <td>0.40</td>\n",
              "      <td>2019</td>\n",
              "    </tr>\n",
              "    <tr>\n",
              "      <th>15</th>\n",
              "      <td>NANGKA/CEMPEDAK</td>\n",
              "      <td>746458.0</td>\n",
              "      <td>796972.0</td>\n",
              "      <td>1.07</td>\n",
              "      <td>2019</td>\n",
              "    </tr>\n",
              "    <tr>\n",
              "      <th>16</th>\n",
              "      <td>NENAS</td>\n",
              "      <td>23388800.0</td>\n",
              "      <td>2286005.0</td>\n",
              "      <td>0.10</td>\n",
              "      <td>2019</td>\n",
              "    </tr>\n",
              "    <tr>\n",
              "      <th>17</th>\n",
              "      <td>PEPAYA</td>\n",
              "      <td>1431082.0</td>\n",
              "      <td>977270.0</td>\n",
              "      <td>0.68</td>\n",
              "      <td>2019</td>\n",
              "    </tr>\n",
              "    <tr>\n",
              "      <th>18</th>\n",
              "      <td>PETAI</td>\n",
              "      <td>1175939.0</td>\n",
              "      <td>680597.0</td>\n",
              "      <td>0.58</td>\n",
              "      <td>2019</td>\n",
              "    </tr>\n",
              "    <tr>\n",
              "      <th>19</th>\n",
              "      <td>PISANG</td>\n",
              "      <td>20454944.0</td>\n",
              "      <td>12201741.0</td>\n",
              "      <td>0.60</td>\n",
              "      <td>2019</td>\n",
              "    </tr>\n",
              "    <tr>\n",
              "      <th>20</th>\n",
              "      <td>RAMBUTAN</td>\n",
              "      <td>1765131.0</td>\n",
              "      <td>1455812.0</td>\n",
              "      <td>0.82</td>\n",
              "      <td>2019</td>\n",
              "    </tr>\n",
              "    <tr>\n",
              "      <th>21</th>\n",
              "      <td>SALAK</td>\n",
              "      <td>1524979.0</td>\n",
              "      <td>152849.0</td>\n",
              "      <td>0.10</td>\n",
              "      <td>2019</td>\n",
              "    </tr>\n",
              "    <tr>\n",
              "      <th>22</th>\n",
              "      <td>SAWO</td>\n",
              "      <td>293309.0</td>\n",
              "      <td>248780.0</td>\n",
              "      <td>0.85</td>\n",
              "      <td>2019</td>\n",
              "    </tr>\n",
              "    <tr>\n",
              "      <th>23</th>\n",
              "      <td>SIRSAK</td>\n",
              "      <td>297431.0</td>\n",
              "      <td>108239.0</td>\n",
              "      <td>0.36</td>\n",
              "      <td>2019</td>\n",
              "    </tr>\n",
              "    <tr>\n",
              "      <th>24</th>\n",
              "      <td>SUKUN</td>\n",
              "      <td>294877.0</td>\n",
              "      <td>218526.0</td>\n",
              "      <td>0.74</td>\n",
              "      <td>2019</td>\n",
              "    </tr>\n",
              "    <tr>\n",
              "      <th>25</th>\n",
              "      <td>ALPUKAT</td>\n",
              "      <td>854976.0</td>\n",
              "      <td>1046645.0</td>\n",
              "      <td>1.22</td>\n",
              "      <td>2020</td>\n",
              "    </tr>\n",
              "    <tr>\n",
              "      <th>26</th>\n",
              "      <td>ANGGUR</td>\n",
              "      <td>82.0</td>\n",
              "      <td>16.0</td>\n",
              "      <td>0.20</td>\n",
              "      <td>2020</td>\n",
              "    </tr>\n",
              "    <tr>\n",
              "      <th>28</th>\n",
              "      <td>BELIMBING</td>\n",
              "      <td>88266.0</td>\n",
              "      <td>70250.0</td>\n",
              "      <td>0.80</td>\n",
              "      <td>2020</td>\n",
              "    </tr>\n",
              "    <tr>\n",
              "      <th>29</th>\n",
              "      <td>DUKU/LANGSAT/KOKOSAN</td>\n",
              "      <td>144818.0</td>\n",
              "      <td>69464.0</td>\n",
              "      <td>0.48</td>\n",
              "      <td>2020</td>\n",
              "    </tr>\n",
              "    <tr>\n",
              "      <th>30</th>\n",
              "      <td>DURIAN</td>\n",
              "      <td>837772.0</td>\n",
              "      <td>730174.0</td>\n",
              "      <td>0.87</td>\n",
              "      <td>2020</td>\n",
              "    </tr>\n",
              "    <tr>\n",
              "      <th>31</th>\n",
              "      <td>JAMBU AIR</td>\n",
              "      <td>262153.0</td>\n",
              "      <td>209964.0</td>\n",
              "      <td>0.80</td>\n",
              "      <td>2020</td>\n",
              "    </tr>\n",
              "    <tr>\n",
              "      <th>32</th>\n",
              "      <td>JAMBU BIJI</td>\n",
              "      <td>787566.0</td>\n",
              "      <td>794345.0</td>\n",
              "      <td>1.01</td>\n",
              "      <td>2020</td>\n",
              "    </tr>\n",
              "    <tr>\n",
              "      <th>33</th>\n",
              "      <td>JENGKOL</td>\n",
              "      <td>254600.0</td>\n",
              "      <td>158624.0</td>\n",
              "      <td>0.62</td>\n",
              "      <td>2020</td>\n",
              "    </tr>\n",
              "    <tr>\n",
              "      <th>34</th>\n",
              "      <td>JERUK BESAR</td>\n",
              "      <td>68254.0</td>\n",
              "      <td>130417.0</td>\n",
              "      <td>1.91</td>\n",
              "      <td>2020</td>\n",
              "    </tr>\n",
              "    <tr>\n",
              "      <th>35</th>\n",
              "      <td>JERUK SIAM/KEPROK</td>\n",
              "      <td>598639.0</td>\n",
              "      <td>471369.0</td>\n",
              "      <td>0.79</td>\n",
              "      <td>2020</td>\n",
              "    </tr>\n",
              "    <tr>\n",
              "      <th>36</th>\n",
              "      <td>MANGGA</td>\n",
              "      <td>3440421.0</td>\n",
              "      <td>4425868.0</td>\n",
              "      <td>1.29</td>\n",
              "      <td>2020</td>\n",
              "    </tr>\n",
              "    <tr>\n",
              "      <th>37</th>\n",
              "      <td>MANGGIS</td>\n",
              "      <td>928029.0</td>\n",
              "      <td>902694.0</td>\n",
              "      <td>0.97</td>\n",
              "      <td>2020</td>\n",
              "    </tr>\n",
              "    <tr>\n",
              "      <th>38</th>\n",
              "      <td>MARKISA/KONYAL</td>\n",
              "      <td>29627.0</td>\n",
              "      <td>9698.0</td>\n",
              "      <td>0.33</td>\n",
              "      <td>2020</td>\n",
              "    </tr>\n",
              "    <tr>\n",
              "      <th>39</th>\n",
              "      <td>MELINJO</td>\n",
              "      <td>757345.0</td>\n",
              "      <td>395178.0</td>\n",
              "      <td>0.52</td>\n",
              "      <td>2020</td>\n",
              "    </tr>\n",
              "    <tr>\n",
              "      <th>40</th>\n",
              "      <td>NANGKA/CEMPEDAK</td>\n",
              "      <td>657725.0</td>\n",
              "      <td>752573.0</td>\n",
              "      <td>1.14</td>\n",
              "      <td>2020</td>\n",
              "    </tr>\n",
              "    <tr>\n",
              "      <th>41</th>\n",
              "      <td>NENAS</td>\n",
              "      <td>20494283.0</td>\n",
              "      <td>2509423.0</td>\n",
              "      <td>0.12</td>\n",
              "      <td>2020</td>\n",
              "    </tr>\n",
              "    <tr>\n",
              "      <th>42</th>\n",
              "      <td>PEPAYA</td>\n",
              "      <td>1446881.0</td>\n",
              "      <td>990876.0</td>\n",
              "      <td>0.68</td>\n",
              "      <td>2020</td>\n",
              "    </tr>\n",
              "    <tr>\n",
              "      <th>43</th>\n",
              "      <td>PETAI</td>\n",
              "      <td>998063.0</td>\n",
              "      <td>674820.0</td>\n",
              "      <td>0.68</td>\n",
              "      <td>2020</td>\n",
              "    </tr>\n",
              "    <tr>\n",
              "      <th>44</th>\n",
              "      <td>PISANG</td>\n",
              "      <td>20045608.0</td>\n",
              "      <td>12635041.0</td>\n",
              "      <td>0.63</td>\n",
              "      <td>2020</td>\n",
              "    </tr>\n",
              "    <tr>\n",
              "      <th>45</th>\n",
              "      <td>RAMBUTAN</td>\n",
              "      <td>1672647.0</td>\n",
              "      <td>1271442.0</td>\n",
              "      <td>0.76</td>\n",
              "      <td>2020</td>\n",
              "    </tr>\n",
              "    <tr>\n",
              "      <th>46</th>\n",
              "      <td>SALAK</td>\n",
              "      <td>1819074.0</td>\n",
              "      <td>316931.0</td>\n",
              "      <td>0.17</td>\n",
              "      <td>2020</td>\n",
              "    </tr>\n",
              "    <tr>\n",
              "      <th>47</th>\n",
              "      <td>SAWO</td>\n",
              "      <td>243526.0</td>\n",
              "      <td>382504.0</td>\n",
              "      <td>1.57</td>\n",
              "      <td>2020</td>\n",
              "    </tr>\n",
              "    <tr>\n",
              "      <th>48</th>\n",
              "      <td>SIRSAK</td>\n",
              "      <td>307188.0</td>\n",
              "      <td>111883.0</td>\n",
              "      <td>0.36</td>\n",
              "      <td>2020</td>\n",
              "    </tr>\n",
              "    <tr>\n",
              "      <th>49</th>\n",
              "      <td>SUKUN</td>\n",
              "      <td>243889.0</td>\n",
              "      <td>242511.0</td>\n",
              "      <td>0.99</td>\n",
              "      <td>2020</td>\n",
              "    </tr>\n",
              "  </tbody>\n",
              "</table>\n",
              "</div>"
            ],
            "text/plain": [
              "                komoditi  ...  tahun\n",
              "0                ALPUKAT  ...   2019\n",
              "1                 ANGGUR  ...   2019\n",
              "3              BELIMBING  ...   2019\n",
              "4   DUKU/LANGSAT/KOKOSAN  ...   2019\n",
              "5                 DURIAN  ...   2019\n",
              "6              JAMBU AIR  ...   2019\n",
              "7             JAMBU BIJI  ...   2019\n",
              "8                JENGKOL  ...   2019\n",
              "9            JERUK BESAR  ...   2019\n",
              "10     JERUK SIAM/KEPROK  ...   2019\n",
              "11                MANGGA  ...   2019\n",
              "12               MANGGIS  ...   2019\n",
              "13        MARKISA/KONYAL  ...   2019\n",
              "14               MELINJO  ...   2019\n",
              "15       NANGKA/CEMPEDAK  ...   2019\n",
              "16                 NENAS  ...   2019\n",
              "17                PEPAYA  ...   2019\n",
              "18                 PETAI  ...   2019\n",
              "19                PISANG  ...   2019\n",
              "20              RAMBUTAN  ...   2019\n",
              "21                 SALAK  ...   2019\n",
              "22                  SAWO  ...   2019\n",
              "23                SIRSAK  ...   2019\n",
              "24                 SUKUN  ...   2019\n",
              "25               ALPUKAT  ...   2020\n",
              "26                ANGGUR  ...   2020\n",
              "28             BELIMBING  ...   2020\n",
              "29  DUKU/LANGSAT/KOKOSAN  ...   2020\n",
              "30                DURIAN  ...   2020\n",
              "31             JAMBU AIR  ...   2020\n",
              "32            JAMBU BIJI  ...   2020\n",
              "33               JENGKOL  ...   2020\n",
              "34           JERUK BESAR  ...   2020\n",
              "35     JERUK SIAM/KEPROK  ...   2020\n",
              "36                MANGGA  ...   2020\n",
              "37               MANGGIS  ...   2020\n",
              "38        MARKISA/KONYAL  ...   2020\n",
              "39               MELINJO  ...   2020\n",
              "40       NANGKA/CEMPEDAK  ...   2020\n",
              "41                 NENAS  ...   2020\n",
              "42                PEPAYA  ...   2020\n",
              "43                 PETAI  ...   2020\n",
              "44                PISANG  ...   2020\n",
              "45              RAMBUTAN  ...   2020\n",
              "46                 SALAK  ...   2020\n",
              "47                  SAWO  ...   2020\n",
              "48                SIRSAK  ...   2020\n",
              "49                 SUKUN  ...   2020\n",
              "\n",
              "[48 rows x 5 columns]"
            ]
          },
          "metadata": {},
          "execution_count": 12
        }
      ]
    },
    {
      "cell_type": "code",
      "metadata": {
        "colab": {
          "base_uri": "https://localhost:8080/"
        },
        "id": "HctoyU45oC3N",
        "outputId": "9687470f-f443-4039-dc03-3033da96200e"
      },
      "source": [
        "df.describe()['produktivitasBuah&SayurDalamKuintalPerPohon']"
      ],
      "execution_count": 11,
      "outputs": [
        {
          "output_type": "execute_result",
          "data": {
            "text/plain": [
              "count    48.000000\n",
              "mean      0.712083\n",
              "std       0.380313\n",
              "min       0.100000\n",
              "25%       0.510000\n",
              "50%       0.685000\n",
              "75%       0.870000\n",
              "max       1.910000\n",
              "Name: produktivitasBuah&SayurDalamKuintalPerPohon, dtype: float64"
            ]
          },
          "metadata": {},
          "execution_count": 11
        }
      ]
    },
    {
      "cell_type": "markdown",
      "metadata": {
        "id": "3EbEGz25p-O9"
      },
      "source": [
        "setelah dilakukan proses cleansing data sudah siap untuk di buat model"
      ]
    },
    {
      "cell_type": "markdown",
      "metadata": {
        "id": "KcVaqVZ_qFO1"
      },
      "source": [
        "# **Tahap Per-Modelan**\n",
        "\n"
      ]
    },
    {
      "cell_type": "markdown",
      "metadata": {
        "id": "VA9STZXEqPeU"
      },
      "source": [
        "cek missing values dengan visualisasi menggunakan library: Missingno\n",
        "adalah pustaka khusus untuk menampilkan nilai yang hilang dalam \n",
        "kerangka data"
      ]
    },
    {
      "cell_type": "markdown",
      "metadata": {
        "id": "508JK02Fqr3U"
      },
      "source": [
        "melakukan import library yang dibutuhkan untuk permodelan"
      ]
    },
    {
      "cell_type": "code",
      "metadata": {
        "id": "TinODnMfq3QM"
      },
      "source": [
        "import numpy as np\n",
        "\n",
        "\n",
        "import matplotlib.pyplot as plt\n",
        "import seaborn as sns\n",
        "\n",
        "import warnings \n",
        "warnings.filterwarnings('ignore')\n",
        "\n",
        "import math"
      ],
      "execution_count": 13,
      "outputs": []
    },
    {
      "cell_type": "code",
      "metadata": {
        "colab": {
          "base_uri": "https://localhost:8080/",
          "height": 681
        },
        "id": "ue4RrQLCqbZ0",
        "outputId": "36504689-9b33-4bde-ac04-86f1b05e83b1"
      },
      "source": [
        "import missingno as msno\n",
        "msno.bar(df,figsize=(8,6),color='skyblue')\n",
        "plt.show()"
      ],
      "execution_count": null,
      "outputs": [
        {
          "output_type": "display_data",
          "data": {
            "image/png": "[encoded data removed]",
            "text/plain": [
              "<Figure size 576x432 with 3 Axes>"
            ]
          },
          "metadata": {
            "needs_background": "light"
          }
        }
      ]
    },
    {
      "cell_type": "markdown",
      "metadata": {
        "id": "krMvFm9Is-K1"
      },
      "source": [
        "melakukan cek data korelasi"
      ]
    },
    {
      "cell_type": "code",
      "metadata": {
        "colab": {
          "base_uri": "https://localhost:8080/",
          "height": 174
        },
        "id": "1RoV6-T1vJ7d",
        "outputId": "fa02ea49-62e5-4773-8f71-f82131684215"
      },
      "source": [
        "df.corr()"
      ],
      "execution_count": 14,
      "outputs": [
        {
          "output_type": "execute_result",
          "data": {
            "text/html": [
              "<div>\n",
              "<style scoped>\n",
              "    .dataframe tbody tr th:only-of-type {\n",
              "        vertical-align: middle;\n",
              "    }\n",
              "\n",
              "    .dataframe tbody tr th {\n",
              "        vertical-align: top;\n",
              "    }\n",
              "\n",
              "    .dataframe thead th {\n",
              "        text-align: right;\n",
              "    }\n",
              "</style>\n",
              "<table border=\"1\" class=\"dataframe\">\n",
              "  <thead>\n",
              "    <tr style=\"text-align: right;\">\n",
              "      <th></th>\n",
              "      <th>tanamanPerpohon</th>\n",
              "      <th>produksiPerKuintal</th>\n",
              "      <th>produktivitasBuah&amp;SayurDalamKuintalPerPohon</th>\n",
              "      <th>tahun</th>\n",
              "    </tr>\n",
              "  </thead>\n",
              "  <tbody>\n",
              "    <tr>\n",
              "      <th>tanamanPerpohon</th>\n",
              "      <td>1.000000</td>\n",
              "      <td>0.752476</td>\n",
              "      <td>-0.262296</td>\n",
              "      <td>-0.014960</td>\n",
              "    </tr>\n",
              "    <tr>\n",
              "      <th>produksiPerKuintal</th>\n",
              "      <td>0.752476</td>\n",
              "      <td>1.000000</td>\n",
              "      <td>0.031070</td>\n",
              "      <td>0.012483</td>\n",
              "    </tr>\n",
              "    <tr>\n",
              "      <th>produktivitasBuah&amp;SayurDalamKuintalPerPohon</th>\n",
              "      <td>-0.262296</td>\n",
              "      <td>0.031070</td>\n",
              "      <td>1.000000</td>\n",
              "      <td>0.201507</td>\n",
              "    </tr>\n",
              "    <tr>\n",
              "      <th>tahun</th>\n",
              "      <td>-0.014960</td>\n",
              "      <td>0.012483</td>\n",
              "      <td>0.201507</td>\n",
              "      <td>1.000000</td>\n",
              "    </tr>\n",
              "  </tbody>\n",
              "</table>\n",
              "</div>"
            ],
            "text/plain": [
              "                                             tanamanPerpohon  ...     tahun\n",
              "tanamanPerpohon                                     1.000000  ... -0.014960\n",
              "produksiPerKuintal                                  0.752476  ...  0.012483\n",
              "produktivitasBuah&SayurDalamKuintalPerPohon        -0.262296  ...  0.201507\n",
              "tahun                                              -0.014960  ...  1.000000\n",
              "\n",
              "[4 rows x 4 columns]"
            ]
          },
          "metadata": {},
          "execution_count": 14
        }
      ]
    },
    {
      "cell_type": "markdown",
      "metadata": {
        "id": "48Xu6mXEv9KO"
      },
      "source": [
        "Buat Visualisasi scater plot"
      ]
    },
    {
      "cell_type": "code",
      "metadata": {
        "colab": {
          "base_uri": "https://localhost:8080/",
          "height": 303
        },
        "id": "g2XOGFI3v954",
        "outputId": "691ba775-2df7-49d2-d169-041e05fbcf75"
      },
      "source": [
        "def pp(x,y):\n",
        " sns.pairplot(df, x_vars=[x,y], y_vars='produksiPerKuintal',size=4, \n",
        "aspect=1, kind='scatter')\n",
        " plt.show()\n",
        "pp('tanamanPerpohon', 'produktivitasBuah&SayurDalamKuintalPerPohon')\n"
      ],
      "execution_count": 15,
      "outputs": [
        {
          "output_type": "display_data",
          "data": {
            "image/png": "[encoded data removed]",
            "text/plain": [
              "<Figure size 576x288 with 2 Axes>"
            ]
          },
          "metadata": {
            "needs_background": "light"
          }
        }
      ]
    },
    {
      "cell_type": "markdown",
      "source": [
        "### Karena terdapat outlier, maka kami akan membuang data outlier tersebut dengan mencari nilai rata-rata tanaman perpohon, kemudian membuang data yang lebih besar dari nilai rata-rata"
      ],
      "metadata": {
        "id": "AlJavbS7hMV0"
      }
    },
    {
      "cell_type": "code",
      "source": [
        "df[\"tanamanPerpohon\"].mean()"
      ],
      "metadata": {
        "colab": {
          "base_uri": "https://localhost:8080/"
        },
        "id": "SRyqOnK2ig9X",
        "outputId": "a3d9b708-8b52-461f-fbf6-0ef2d539b14d"
      },
      "execution_count": 17,
      "outputs": [
        {
          "output_type": "execute_result",
          "data": {
            "text/plain": [
              "2459263.3541666665"
            ]
          },
          "metadata": {},
          "execution_count": 17
        }
      ]
    },
    {
      "cell_type": "code",
      "source": [
        "df = df[df.tanamanPerpohon < 2459263]\n",
        "\n",
        "df"
      ],
      "metadata": {
        "colab": {
          "base_uri": "https://localhost:8080/",
          "height": 1000
        },
        "id": "LWJ51QWqhRci",
        "outputId": "e81f5365-605c-404f-fd68-7b93b6d8dd32"
      },
      "execution_count": 23,
      "outputs": [
        {
          "output_type": "execute_result",
          "data": {
            "text/html": [
              "<div>\n",
              "<style scoped>\n",
              "    .dataframe tbody tr th:only-of-type {\n",
              "        vertical-align: middle;\n",
              "    }\n",
              "\n",
              "    .dataframe tbody tr th {\n",
              "        vertical-align: top;\n",
              "    }\n",
              "\n",
              "    .dataframe thead th {\n",
              "        text-align: right;\n",
              "    }\n",
              "</style>\n",
              "<table border=\"1\" class=\"dataframe\">\n",
              "  <thead>\n",
              "    <tr style=\"text-align: right;\">\n",
              "      <th></th>\n",
              "      <th>komoditi</th>\n",
              "      <th>tanamanPerpohon</th>\n",
              "      <th>produksiPerKuintal</th>\n",
              "      <th>produktivitasBuah&amp;SayurDalamKuintalPerPohon</th>\n",
              "      <th>tahun</th>\n",
              "    </tr>\n",
              "  </thead>\n",
              "  <tbody>\n",
              "    <tr>\n",
              "      <th>0</th>\n",
              "      <td>ALPUKAT</td>\n",
              "      <td>890084.0</td>\n",
              "      <td>1040844.0</td>\n",
              "      <td>1.17</td>\n",
              "      <td>2019</td>\n",
              "    </tr>\n",
              "    <tr>\n",
              "      <th>1</th>\n",
              "      <td>ANGGUR</td>\n",
              "      <td>79.0</td>\n",
              "      <td>12.0</td>\n",
              "      <td>0.15</td>\n",
              "      <td>2019</td>\n",
              "    </tr>\n",
              "    <tr>\n",
              "      <th>3</th>\n",
              "      <td>BELIMBING</td>\n",
              "      <td>106782.0</td>\n",
              "      <td>87558.0</td>\n",
              "      <td>0.82</td>\n",
              "      <td>2019</td>\n",
              "    </tr>\n",
              "    <tr>\n",
              "      <th>4</th>\n",
              "      <td>DUKU/LANGSAT/KOKOSAN</td>\n",
              "      <td>159965.0</td>\n",
              "      <td>97146.0</td>\n",
              "      <td>0.61</td>\n",
              "      <td>2019</td>\n",
              "    </tr>\n",
              "    <tr>\n",
              "      <th>5</th>\n",
              "      <td>DURIAN</td>\n",
              "      <td>1084986.0</td>\n",
              "      <td>941829.0</td>\n",
              "      <td>0.87</td>\n",
              "      <td>2019</td>\n",
              "    </tr>\n",
              "    <tr>\n",
              "      <th>6</th>\n",
              "      <td>JAMBU AIR</td>\n",
              "      <td>318503.0</td>\n",
              "      <td>179335.0</td>\n",
              "      <td>0.56</td>\n",
              "      <td>2019</td>\n",
              "    </tr>\n",
              "    <tr>\n",
              "      <th>7</th>\n",
              "      <td>JAMBU BIJI</td>\n",
              "      <td>843672.0</td>\n",
              "      <td>508873.0</td>\n",
              "      <td>0.60</td>\n",
              "      <td>2019</td>\n",
              "    </tr>\n",
              "    <tr>\n",
              "      <th>8</th>\n",
              "      <td>JENGKOL</td>\n",
              "      <td>234347.0</td>\n",
              "      <td>161103.0</td>\n",
              "      <td>0.69</td>\n",
              "      <td>2019</td>\n",
              "    </tr>\n",
              "    <tr>\n",
              "      <th>9</th>\n",
              "      <td>JERUK BESAR</td>\n",
              "      <td>69359.0</td>\n",
              "      <td>55353.0</td>\n",
              "      <td>0.80</td>\n",
              "      <td>2019</td>\n",
              "    </tr>\n",
              "    <tr>\n",
              "      <th>10</th>\n",
              "      <td>JERUK SIAM/KEPROK</td>\n",
              "      <td>651021.0</td>\n",
              "      <td>385159.0</td>\n",
              "      <td>0.59</td>\n",
              "      <td>2019</td>\n",
              "    </tr>\n",
              "    <tr>\n",
              "      <th>12</th>\n",
              "      <td>MANGGIS</td>\n",
              "      <td>881077.0</td>\n",
              "      <td>749747.0</td>\n",
              "      <td>0.85</td>\n",
              "      <td>2019</td>\n",
              "    </tr>\n",
              "    <tr>\n",
              "      <th>13</th>\n",
              "      <td>MARKISA/KONYAL</td>\n",
              "      <td>8396.0</td>\n",
              "      <td>1270.0</td>\n",
              "      <td>0.15</td>\n",
              "      <td>2019</td>\n",
              "    </tr>\n",
              "    <tr>\n",
              "      <th>14</th>\n",
              "      <td>MELINJO</td>\n",
              "      <td>688132.0</td>\n",
              "      <td>274179.0</td>\n",
              "      <td>0.40</td>\n",
              "      <td>2019</td>\n",
              "    </tr>\n",
              "    <tr>\n",
              "      <th>15</th>\n",
              "      <td>NANGKA/CEMPEDAK</td>\n",
              "      <td>746458.0</td>\n",
              "      <td>796972.0</td>\n",
              "      <td>1.07</td>\n",
              "      <td>2019</td>\n",
              "    </tr>\n",
              "    <tr>\n",
              "      <th>17</th>\n",
              "      <td>PEPAYA</td>\n",
              "      <td>1431082.0</td>\n",
              "      <td>977270.0</td>\n",
              "      <td>0.68</td>\n",
              "      <td>2019</td>\n",
              "    </tr>\n",
              "    <tr>\n",
              "      <th>18</th>\n",
              "      <td>PETAI</td>\n",
              "      <td>1175939.0</td>\n",
              "      <td>680597.0</td>\n",
              "      <td>0.58</td>\n",
              "      <td>2019</td>\n",
              "    </tr>\n",
              "    <tr>\n",
              "      <th>20</th>\n",
              "      <td>RAMBUTAN</td>\n",
              "      <td>1765131.0</td>\n",
              "      <td>1455812.0</td>\n",
              "      <td>0.82</td>\n",
              "      <td>2019</td>\n",
              "    </tr>\n",
              "    <tr>\n",
              "      <th>21</th>\n",
              "      <td>SALAK</td>\n",
              "      <td>1524979.0</td>\n",
              "      <td>152849.0</td>\n",
              "      <td>0.10</td>\n",
              "      <td>2019</td>\n",
              "    </tr>\n",
              "    <tr>\n",
              "      <th>22</th>\n",
              "      <td>SAWO</td>\n",
              "      <td>293309.0</td>\n",
              "      <td>248780.0</td>\n",
              "      <td>0.85</td>\n",
              "      <td>2019</td>\n",
              "    </tr>\n",
              "    <tr>\n",
              "      <th>23</th>\n",
              "      <td>SIRSAK</td>\n",
              "      <td>297431.0</td>\n",
              "      <td>108239.0</td>\n",
              "      <td>0.36</td>\n",
              "      <td>2019</td>\n",
              "    </tr>\n",
              "    <tr>\n",
              "      <th>24</th>\n",
              "      <td>SUKUN</td>\n",
              "      <td>294877.0</td>\n",
              "      <td>218526.0</td>\n",
              "      <td>0.74</td>\n",
              "      <td>2019</td>\n",
              "    </tr>\n",
              "    <tr>\n",
              "      <th>25</th>\n",
              "      <td>ALPUKAT</td>\n",
              "      <td>854976.0</td>\n",
              "      <td>1046645.0</td>\n",
              "      <td>1.22</td>\n",
              "      <td>2020</td>\n",
              "    </tr>\n",
              "    <tr>\n",
              "      <th>26</th>\n",
              "      <td>ANGGUR</td>\n",
              "      <td>82.0</td>\n",
              "      <td>16.0</td>\n",
              "      <td>0.20</td>\n",
              "      <td>2020</td>\n",
              "    </tr>\n",
              "    <tr>\n",
              "      <th>28</th>\n",
              "      <td>BELIMBING</td>\n",
              "      <td>88266.0</td>\n",
              "      <td>70250.0</td>\n",
              "      <td>0.80</td>\n",
              "      <td>2020</td>\n",
              "    </tr>\n",
              "    <tr>\n",
              "      <th>29</th>\n",
              "      <td>DUKU/LANGSAT/KOKOSAN</td>\n",
              "      <td>144818.0</td>\n",
              "      <td>69464.0</td>\n",
              "      <td>0.48</td>\n",
              "      <td>2020</td>\n",
              "    </tr>\n",
              "    <tr>\n",
              "      <th>30</th>\n",
              "      <td>DURIAN</td>\n",
              "      <td>837772.0</td>\n",
              "      <td>730174.0</td>\n",
              "      <td>0.87</td>\n",
              "      <td>2020</td>\n",
              "    </tr>\n",
              "    <tr>\n",
              "      <th>31</th>\n",
              "      <td>JAMBU AIR</td>\n",
              "      <td>262153.0</td>\n",
              "      <td>209964.0</td>\n",
              "      <td>0.80</td>\n",
              "      <td>2020</td>\n",
              "    </tr>\n",
              "    <tr>\n",
              "      <th>32</th>\n",
              "      <td>JAMBU BIJI</td>\n",
              "      <td>787566.0</td>\n",
              "      <td>794345.0</td>\n",
              "      <td>1.01</td>\n",
              "      <td>2020</td>\n",
              "    </tr>\n",
              "    <tr>\n",
              "      <th>33</th>\n",
              "      <td>JENGKOL</td>\n",
              "      <td>254600.0</td>\n",
              "      <td>158624.0</td>\n",
              "      <td>0.62</td>\n",
              "      <td>2020</td>\n",
              "    </tr>\n",
              "    <tr>\n",
              "      <th>34</th>\n",
              "      <td>JERUK BESAR</td>\n",
              "      <td>68254.0</td>\n",
              "      <td>130417.0</td>\n",
              "      <td>1.91</td>\n",
              "      <td>2020</td>\n",
              "    </tr>\n",
              "    <tr>\n",
              "      <th>35</th>\n",
              "      <td>JERUK SIAM/KEPROK</td>\n",
              "      <td>598639.0</td>\n",
              "      <td>471369.0</td>\n",
              "      <td>0.79</td>\n",
              "      <td>2020</td>\n",
              "    </tr>\n",
              "    <tr>\n",
              "      <th>37</th>\n",
              "      <td>MANGGIS</td>\n",
              "      <td>928029.0</td>\n",
              "      <td>902694.0</td>\n",
              "      <td>0.97</td>\n",
              "      <td>2020</td>\n",
              "    </tr>\n",
              "    <tr>\n",
              "      <th>38</th>\n",
              "      <td>MARKISA/KONYAL</td>\n",
              "      <td>29627.0</td>\n",
              "      <td>9698.0</td>\n",
              "      <td>0.33</td>\n",
              "      <td>2020</td>\n",
              "    </tr>\n",
              "    <tr>\n",
              "      <th>39</th>\n",
              "      <td>MELINJO</td>\n",
              "      <td>757345.0</td>\n",
              "      <td>395178.0</td>\n",
              "      <td>0.52</td>\n",
              "      <td>2020</td>\n",
              "    </tr>\n",
              "    <tr>\n",
              "      <th>40</th>\n",
              "      <td>NANGKA/CEMPEDAK</td>\n",
              "      <td>657725.0</td>\n",
              "      <td>752573.0</td>\n",
              "      <td>1.14</td>\n",
              "      <td>2020</td>\n",
              "    </tr>\n",
              "    <tr>\n",
              "      <th>42</th>\n",
              "      <td>PEPAYA</td>\n",
              "      <td>1446881.0</td>\n",
              "      <td>990876.0</td>\n",
              "      <td>0.68</td>\n",
              "      <td>2020</td>\n",
              "    </tr>\n",
              "    <tr>\n",
              "      <th>43</th>\n",
              "      <td>PETAI</td>\n",
              "      <td>998063.0</td>\n",
              "      <td>674820.0</td>\n",
              "      <td>0.68</td>\n",
              "      <td>2020</td>\n",
              "    </tr>\n",
              "    <tr>\n",
              "      <th>45</th>\n",
              "      <td>RAMBUTAN</td>\n",
              "      <td>1672647.0</td>\n",
              "      <td>1271442.0</td>\n",
              "      <td>0.76</td>\n",
              "      <td>2020</td>\n",
              "    </tr>\n",
              "    <tr>\n",
              "      <th>46</th>\n",
              "      <td>SALAK</td>\n",
              "      <td>1819074.0</td>\n",
              "      <td>316931.0</td>\n",
              "      <td>0.17</td>\n",
              "      <td>2020</td>\n",
              "    </tr>\n",
              "    <tr>\n",
              "      <th>47</th>\n",
              "      <td>SAWO</td>\n",
              "      <td>243526.0</td>\n",
              "      <td>382504.0</td>\n",
              "      <td>1.57</td>\n",
              "      <td>2020</td>\n",
              "    </tr>\n",
              "    <tr>\n",
              "      <th>48</th>\n",
              "      <td>SIRSAK</td>\n",
              "      <td>307188.0</td>\n",
              "      <td>111883.0</td>\n",
              "      <td>0.36</td>\n",
              "      <td>2020</td>\n",
              "    </tr>\n",
              "    <tr>\n",
              "      <th>49</th>\n",
              "      <td>SUKUN</td>\n",
              "      <td>243889.0</td>\n",
              "      <td>242511.0</td>\n",
              "      <td>0.99</td>\n",
              "      <td>2020</td>\n",
              "    </tr>\n",
              "  </tbody>\n",
              "</table>\n",
              "</div>"
            ],
            "text/plain": [
              "                komoditi  ...  tahun\n",
              "0                ALPUKAT  ...   2019\n",
              "1                 ANGGUR  ...   2019\n",
              "3              BELIMBING  ...   2019\n",
              "4   DUKU/LANGSAT/KOKOSAN  ...   2019\n",
              "5                 DURIAN  ...   2019\n",
              "6              JAMBU AIR  ...   2019\n",
              "7             JAMBU BIJI  ...   2019\n",
              "8                JENGKOL  ...   2019\n",
              "9            JERUK BESAR  ...   2019\n",
              "10     JERUK SIAM/KEPROK  ...   2019\n",
              "12               MANGGIS  ...   2019\n",
              "13        MARKISA/KONYAL  ...   2019\n",
              "14               MELINJO  ...   2019\n",
              "15       NANGKA/CEMPEDAK  ...   2019\n",
              "17                PEPAYA  ...   2019\n",
              "18                 PETAI  ...   2019\n",
              "20              RAMBUTAN  ...   2019\n",
              "21                 SALAK  ...   2019\n",
              "22                  SAWO  ...   2019\n",
              "23                SIRSAK  ...   2019\n",
              "24                 SUKUN  ...   2019\n",
              "25               ALPUKAT  ...   2020\n",
              "26                ANGGUR  ...   2020\n",
              "28             BELIMBING  ...   2020\n",
              "29  DUKU/LANGSAT/KOKOSAN  ...   2020\n",
              "30                DURIAN  ...   2020\n",
              "31             JAMBU AIR  ...   2020\n",
              "32            JAMBU BIJI  ...   2020\n",
              "33               JENGKOL  ...   2020\n",
              "34           JERUK BESAR  ...   2020\n",
              "35     JERUK SIAM/KEPROK  ...   2020\n",
              "37               MANGGIS  ...   2020\n",
              "38        MARKISA/KONYAL  ...   2020\n",
              "39               MELINJO  ...   2020\n",
              "40       NANGKA/CEMPEDAK  ...   2020\n",
              "42                PEPAYA  ...   2020\n",
              "43                 PETAI  ...   2020\n",
              "45              RAMBUTAN  ...   2020\n",
              "46                 SALAK  ...   2020\n",
              "47                  SAWO  ...   2020\n",
              "48                SIRSAK  ...   2020\n",
              "49                 SUKUN  ...   2020\n",
              "\n",
              "[42 rows x 5 columns]"
            ]
          },
          "metadata": {},
          "execution_count": 23
        }
      ]
    },
    {
      "cell_type": "markdown",
      "metadata": {
        "id": "Pm16oZgD27k9"
      },
      "source": [
        "Buat Visualisasi Heatmap"
      ]
    },
    {
      "cell_type": "code",
      "metadata": {
        "colab": {
          "base_uri": "https://localhost:8080/",
          "height": 748
        },
        "id": "_V420-Oc28Jn",
        "outputId": "e00d8787-7a8f-4732-b98e-faf910566dda"
      },
      "source": [
        "plt.figure(figsize = (8,8))\n",
        "data_fitur = df[['tanamanPerpohon', 'produktivitasBuah&SayurDalamKuintalPerPohon', 'produksiPerKuintal']]\n",
        "sns.heatmap(data_fitur.corr(),annot=False,fmt=\"f\").set_title(\"Korelasi Heatmap Calon Variabel X\")\n"
      ],
      "execution_count": 25,
      "outputs": [
        {
          "output_type": "execute_result",
          "data": {
            "text/plain": [
              "Text(0.5, 1.0, 'Korelasi Heatmap Calon Variabel X')"
            ]
          },
          "metadata": {},
          "execution_count": 25
        },
        {
          "output_type": "display_data",
          "data": {
            "image/png": "[encoded data removed]",
            "text/plain": [
              "<Figure size 576x576 with 2 Axes>"
            ]
          },
          "metadata": {
            "needs_background": "light"
          }
        }
      ]
    },
    {
      "cell_type": "markdown",
      "metadata": {
        "id": "o9PpNT0f3Qh0"
      },
      "source": [
        "Dari hasil visualisasi diatas bahwa fitur/kolom tanaman Perpohon memiliki korelasi yang tinggi \n",
        "terhadap kolom Produksi PerKuintal / variabel dependent sehingga kami mengambil fitur/kolom \n",
        "tanaman Perpohon untuk di training"
      ]
    },
    {
      "cell_type": "markdown",
      "metadata": {
        "id": "FovnD-3L3o4F"
      },
      "source": [
        "Buat Visualisasi Scatter Plot antara calon variabel X(tanaman Perpohon) dan y(Produksi PerKuintal):"
      ]
    },
    {
      "cell_type": "code",
      "metadata": {
        "colab": {
          "base_uri": "https://localhost:8080/",
          "height": 294
        },
        "id": "zXG9Vo523xzg",
        "outputId": "a79d6bfb-554a-41c6-b81a-eab0d3b58dc5"
      },
      "source": [
        "plt.scatter(df['tanamanPerpohon'], df['produksiPerKuintal'])\n",
        "plt.xlabel('tanamanPerpohon')\n",
        "plt.ylabel('produksiPerKuintal')\n",
        "plt.title('Scatter Plot tanamanPerpohon vs produksiPerKuintal')\n",
        "plt.show()"
      ],
      "execution_count": 26,
      "outputs": [
        {
          "output_type": "display_data",
          "data": {
            "image/png": "[encoded data removed]",
            "text/plain": [
              "<Figure size 432x288 with 1 Axes>"
            ]
          },
          "metadata": {
            "needs_background": "light"
          }
        }
      ]
    },
    {
      "cell_type": "markdown",
      "metadata": {
        "id": "0vBq3KRh4NK4"
      },
      "source": [
        "definisi variabel X(tanamanPerpohon) dan y(produksiPerKuintal):"
      ]
    },
    {
      "cell_type": "code",
      "metadata": {
        "id": "MLzHrdLa4ZTg"
      },
      "source": [
        "x = df['tanamanPerpohon'].values.reshape(-1,1)\n",
        "y = df['produksiPerKuintal'].values.reshape(-1,1)"
      ],
      "execution_count": 27,
      "outputs": []
    },
    {
      "cell_type": "markdown",
      "metadata": {
        "id": "-EeKCYyk4rO-"
      },
      "source": [
        "definisi variabel nilai mean/rata-rata"
      ]
    },
    {
      "cell_type": "code",
      "metadata": {
        "colab": {
          "base_uri": "https://localhost:8080/"
        },
        "id": "4NAXb5qI4r_v",
        "outputId": "c67fef54-e4a3-45f7-cd19-33c7b8853eda"
      },
      "source": [
        "x_mean = np.mean(x)\n",
        "y_mean = np.mean(y)\n",
        "print('nilai mean var x: ', x_mean,'\\n' 'nilai mean var y: ', y_mean)"
      ],
      "execution_count": 28,
      "outputs": [
        {
          "output_type": "stream",
          "name": "stdout",
          "text": [
            "nilai mean var x:  630160.2142857143 \n",
            "nilai mean var y:  448900.7380952381\n"
          ]
        }
      ]
    },
    {
      "cell_type": "markdown",
      "metadata": {
        "id": "yInpktGd5Fdg"
      },
      "source": [
        "nilai koefisien korelasi "
      ]
    },
    {
      "cell_type": "code",
      "metadata": {
        "colab": {
          "base_uri": "https://localhost:8080/"
        },
        "id": "etVuQr8n5GMv",
        "outputId": "912db613-243f-4f02-ff02-93954dd7a9fb"
      },
      "source": [
        "atas = sum((x - x_mean)*(y - y_mean))\n",
        "bawah = math.sqrt((sum((x - x_mean)**2)) * (sum((y - y_mean)**2)))\n",
        "correlation = atas/bawah\n",
        "print('Nilai Correlation Coefficient: ', correlation)"
      ],
      "execution_count": 29,
      "outputs": [
        {
          "output_type": "stream",
          "name": "stdout",
          "text": [
            "Nilai Correlation Coefficient:  [0.77579828]\n"
          ]
        }
      ]
    },
    {
      "cell_type": "markdown",
      "metadata": {
        "id": "chVj99ZR5j4S"
      },
      "source": [
        "nilai theta_1 atau nilai slope"
      ]
    },
    {
      "cell_type": "code",
      "metadata": {
        "colab": {
          "base_uri": "https://localhost:8080/"
        },
        "id": "Y_qKbqMn5kUS",
        "outputId": "26018d94-7159-48df-abe3-04d6045e79b9"
      },
      "source": [
        "variance = sum((x - x_mean)**2)\n",
        "covariance = sum((x - x_mean) * (y - y_mean))\n",
        "theta_1 = covariance/variance\n",
        "print('Nilai theta_1: ',theta_1)"
      ],
      "execution_count": 30,
      "outputs": [
        {
          "output_type": "stream",
          "name": "stdout",
          "text": [
            "Nilai theta_1:  [0.58228826]\n"
          ]
        }
      ]
    },
    {
      "cell_type": "markdown",
      "metadata": {
        "id": "cZVTq41N5pWn"
      },
      "source": [
        "nilai theta_0 atau nilai intercept"
      ]
    },
    {
      "cell_type": "code",
      "metadata": {
        "colab": {
          "base_uri": "https://localhost:8080/"
        },
        "id": "7Pf-NOBC5pto",
        "outputId": "fc1fc92f-13c0-4be5-be20-264831f98f6f"
      },
      "source": [
        "theta_0 = y_mean - (theta_1 * x_mean)\n",
        "print('Nilai theta_1: ',theta_0)"
      ],
      "execution_count": 31,
      "outputs": [
        {
          "output_type": "stream",
          "name": "stdout",
          "text": [
            "Nilai theta_1:  [81965.84647582]\n"
          ]
        }
      ]
    },
    {
      "cell_type": "markdown",
      "metadata": {
        "id": "U7IqIdiQ5yIn"
      },
      "source": [
        "nilai prediksi secara manual dan membuat visualisasi scater plot nya"
      ]
    },
    {
      "cell_type": "code",
      "metadata": {
        "colab": {
          "base_uri": "https://localhost:8080/",
          "height": 332
        },
        "id": "LbtQ430251oJ",
        "outputId": "967ab20c-5e6c-47e3-d6c3-7b50a59a444e"
      },
      "source": [
        "y_pred = theta_0 + (theta_1 * 130)\n",
        "print(y_pred)\n",
        "[13795.34859997]\n",
        "# visualisasi prediksi dengan scatter plot\n",
        "y_pred = theta_0 + (theta_1 * x)\n",
        "plt.scatter(x, y)\n",
        "plt.plot(x, y_pred, c='r')\n",
        "plt.xlabel('tanamanPerpohon')\n",
        "plt.ylabel('produksiPerKuintal')\n",
        "plt.title('tanamanPerpohon vs produksiPerKuintal')"
      ],
      "execution_count": 32,
      "outputs": [
        {
          "output_type": "stream",
          "name": "stdout",
          "text": [
            "[82041.54394898]\n"
          ]
        },
        {
          "output_type": "execute_result",
          "data": {
            "text/plain": [
              "Text(0.5, 1.0, 'tanamanPerpohon vs produksiPerKuintal')"
            ]
          },
          "metadata": {},
          "execution_count": 32
        },
        {
          "output_type": "display_data",
          "data": {
            "image/png": "[encoded data removed]",
            "text/plain": [
              "<Figure size 432x288 with 1 Axes>"
            ]
          },
          "metadata": {
            "needs_background": "light"
          }
        }
      ]
    },
    {
      "cell_type": "markdown",
      "source": [
        "# **Kesimpulan**"
      ],
      "metadata": {
        "id": "KnF3Tzc9n1ix"
      }
    },
    {
      "cell_type": "markdown",
      "source": [
        "### Dari permodelan regresi linear yang kami gunakan, jumlah tanaman pohon memengaruhi produksi per kuintal, hal tersebut dibuktikan dengan tingkat korelasi yang di tampilkan pada heat map. Hasil visualisasi dengan menggunakan scatter plot menunjukan bahwa semakin tinggi atau semakin banya tanaman perpohon maka semakin banyak juga produksi per kuintal "
      ],
      "metadata": {
        "id": "peccG1YRpG4M"
      }
    }
  ]
}